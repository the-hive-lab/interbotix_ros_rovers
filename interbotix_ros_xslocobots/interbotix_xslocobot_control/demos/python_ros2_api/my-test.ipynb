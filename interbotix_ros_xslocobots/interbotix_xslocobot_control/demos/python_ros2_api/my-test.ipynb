{
 "cells": [
  {
   "cell_type": "code",
   "execution_count": null,
   "metadata": {},
   "outputs": [],
   "source": [
    "import math\n",
    "from time import sleep\n",
    "from interbotix_xs_modules.xs_robot.locobot import InterbotixLocobotXS\n",
    "\n",
    "pi=math.pi\n",
    "\"\"\"\n",
    "This script manipulates the arm\n",
    "\n",
    "To get started, open a terminal and run the command:\n",
    "\n",
    "    ros2 launch interbotix_xslocobot_control xslocobot_control.launch.py robot_model:=locobot_wx200 use_nav:=false rtabmap_args:=-d\n",
    "\n",
    "\"\"\""
   ]
  },
  {
   "cell_type": "code",
   "execution_count": null,
   "metadata": {},
   "outputs": [],
   "source": [
    "locobot = InterbotixLocobotXS(\n",
    "        robot_model='locobot_wx200',\n",
    "        arm_model='mobile_wx200',\n",
    "        use_base=True,\n",
    "        use_nav=True,\n",
    "        robot_name='locobot'\n",
    "    )"
   ]
  },
  {
   "cell_type": "code",
   "execution_count": null,
   "metadata": {},
   "outputs": [],
   "source": [
    "locobot.arm.go_to_sleep_pose(moving_time=2.5, accel_time=1.0)"
   ]
  },
  {
   "cell_type": "code",
   "execution_count": null,
   "metadata": {},
   "outputs": [],
   "source": [
    "locobot.arm.go_to_home_pose(moving_time=2.5, accel_time=1.0)\n",
    "# locobot.arm.go_to_home_pose()\n",
    "# locobot.arm.go_to_sleep_pose(moving_time=2.5, accel_time=1.0)"
   ]
  },
  {
   "cell_type": "code",
   "execution_count": null,
   "metadata": {},
   "outputs": [],
   "source": [
    "ee_pose_home = locobot.arm.get_ee_pose_command()[:,-1]"
   ]
  },
  {
   "cell_type": "code",
   "execution_count": null,
   "metadata": {},
   "outputs": [],
   "source": [
    "ee_pose_home"
   ]
  },
  {
   "cell_type": "code",
   "execution_count": null,
   "metadata": {},
   "outputs": [],
   "source": [
    "joint_names = locobot.arm.group_info.joint_names\n",
    "print(joint_names)"
   ]
  },
  {
   "cell_type": "code",
   "execution_count": null,
   "metadata": {},
   "outputs": [],
   "source": [
    "positions=[[pi/6, pi/12, pi/8, 0, 0],\n",
    "           [pi/8, pi/24, pi/16, 0, 0],\n",
    "           [0.0]*5,\n",
    "]\n",
    "durations = [2.0, 1.25, 1.25]"
   ]
  },
  {
   "cell_type": "code",
   "execution_count": null,
   "metadata": {},
   "outputs": [],
   "source": [
    "locobot.arm.set_joint_positions(positions[0], moving_time=durations[0])"
   ]
  },
  {
   "cell_type": "code",
   "execution_count": null,
   "metadata": {},
   "outputs": [],
   "source": [
    "ee_pose_home"
   ]
  },
  {
   "cell_type": "code",
   "execution_count": null,
   "metadata": {},
   "outputs": [],
   "source": [
    "x0 = 0.3\n",
    "ee_positions = [ee_pose_home[:3],\n",
    "                [x0, 0.1, 0.15],\n",
    "                [x0, 0.175, 0.15],\n",
    "                [x0, 0.275, 0.3],\n",
    "                [x0, 0.175, 0.45],\n",
    "                [x0, 0.1, 0.45],\n",
    "                [x0, 0, 0.3],\n",
    "                [x0, -0.1, 0.15],\n",
    "                [x0, -0.175, 0.15],\n",
    "                [x0, -0.275, 0.3],\n",
    "                [x0, -0.175, 0.45],\n",
    "                [x0, -0.1, 0.45],\n",
    "                ee_pose_home[:3],\n",
    "                ]"
   ]
  },
  {
   "cell_type": "code",
   "execution_count": null,
   "metadata": {},
   "outputs": [],
   "source": [
    "for ee_pos_i, ee_pos in enumerate(ee_positions):\n",
    "    x,y,z=ee_pos\n",
    "    _, result = locobot.arm.set_ee_pose_components(x=x,y=y,z=z,moving_time=1.5)\n",
    "    print(result)"
   ]
  },
  {
   "cell_type": "code",
   "execution_count": null,
   "metadata": {},
   "outputs": [],
   "source": [
    "locobot.arm.set_ee_pose_components(x=0.2,y=0.0,z=0.3,moving_time=2.0)"
   ]
  },
  {
   "cell_type": "code",
   "execution_count": null,
   "metadata": {},
   "outputs": [],
   "source": [
    "locobot.gripper.set_pressure(0.1)"
   ]
  },
  {
   "cell_type": "code",
   "execution_count": null,
   "metadata": {},
   "outputs": [],
   "source": [
    "locobot.gripper.grasp()"
   ]
  },
  {
   "cell_type": "code",
   "execution_count": null,
   "metadata": {},
   "outputs": [],
   "source": [
    "locobot.arm.set_ee_pose_components(x=0.333,y=0.192,z=0.066,moving_time=2.0)"
   ]
  },
  {
   "cell_type": "code",
   "execution_count": null,
   "metadata": {},
   "outputs": [],
   "source": [
    "locobot.arm.set_ee_pose_components(x=0.33,y=0.14,z=0.036,moving_time=2.0)"
   ]
  },
  {
   "cell_type": "code",
   "execution_count": null,
   "metadata": {},
   "outputs": [],
   "source": [
    "locobot.arm.set_ee_pose_components(x=0.25,y=0.0,z=0.25,moving_time=2.0)"
   ]
  },
  {
   "cell_type": "code",
   "execution_count": null,
   "metadata": {},
   "outputs": [],
   "source": [
    "locobot.arm.get_ee_pose_command()"
   ]
  },
  {
   "cell_type": "code",
   "execution_count": null,
   "metadata": {},
   "outputs": [],
   "source": [
    "for i in range(3):\n",
    "    for pos_i, pos in enumerate(positions):\n",
    "        locobot.arm.set_joint_positions(pos, moving_time=durations[pos_i])"
   ]
  },
  {
   "cell_type": "code",
   "execution_count": null,
   "metadata": {},
   "outputs": [],
   "source": [
    "jvalues, success = locobot.arm.set_ee_pose_components(x=0, y=0, z=1, roll=0.0, pitch=0, moving_time=1.5)\n",
    "print('Path found:', success)\n"
   ]
  },
  {
   "cell_type": "code",
   "execution_count": null,
   "metadata": {},
   "outputs": [],
   "source": [
    "# locobot.arm.go_to_home_pose()\n",
    "# locobot.arm.set_ee_pose_components(x=0.2, y=0.1, z=0.2, roll=1.0, pitch=1.5)\n",
    "# locobot.arm.go_to_home_pose()\n",
    "# locobot.arm.go_to_sleep_pose(moving_time=2.0, accel_time=1.0)"
   ]
  },
  {
   "cell_type": "code",
   "execution_count": null,
   "metadata": {},
   "outputs": [],
   "source": [
    "locobot.arm.go_to_home_pose(moving_time=2.5, accel_time=1.0)"
   ]
  },
  {
   "cell_type": "code",
   "execution_count": null,
   "metadata": {},
   "outputs": [],
   "source": [
    "locobot.arm.go_to_sleep_pose(moving_time=2.5, accel_time=1.0)"
   ]
  },
  {
   "cell_type": "code",
   "execution_count": null,
   "metadata": {},
   "outputs": [],
   "source": [
    "locobot.arm.go_to_sleep_pose()"
   ]
  },
  {
   "cell_type": "code",
   "execution_count": null,
   "metadata": {},
   "outputs": [],
   "source": [
    "locobot.arm.set_single_joint_position('wrist_rotate', -pi/4.0, moving_time=2.5)\n",
    "locobot.arm.set_single_joint_position('wrist_rotate', pi/4.0, moving_time=4.0)\n",
    "locobot.arm.set_single_joint_position('wrist_rotate', 0.0, moving_time=2.5)\n",
    "\n"
   ]
  },
  {
   "cell_type": "code",
   "execution_count": null,
   "metadata": {},
   "outputs": [],
   "source": [
    "locobot.arm.set_joint_positions([pi/6, pi/12, pi/8, pi/8, 0], moving_time=2)"
   ]
  },
  {
   "cell_type": "code",
   "execution_count": null,
   "metadata": {},
   "outputs": [],
   "source": [
    "# joint_positions = [0, 0, 0, 0, 0]\n",
    "\n",
    "# locobot.arm.go_to_home_pose(moving_time=2.5, accel_time=1.0)\n",
    "# sleep(2)\n",
    "locobot.arm.set_joint_positions([0, 0, 0, 0, -0.5], moving_time=0.4)\n",
    "\n",
    "locobot.arm.set_joint_positions([0, 0, 0, 0, 0.5], moving_time=0.6)\n",
    "\n",
    "locobot.arm.set_joint_positions([0, 0, 0, 0, 0], moving_time=0.4)\n",
    "\n",
    "# sleep(2)\n",
    "# locobot.arm.go_to_home_pose()\n",
    "# locobot.arm.go_to_sleep_pose()\n"
   ]
  },
  {
   "cell_type": "code",
   "execution_count": null,
   "metadata": {},
   "outputs": [],
   "source": [
    "locobot.arm.go_to_home_pose()\n",
    "locobot.arm.set_ee_pose_components(x=0.2, y=0.1, z=0.2, roll=1.0, pitch=1.5)\n",
    "locobot.arm.go_to_home_pose()"
   ]
  },
  {
   "cell_type": "code",
   "execution_count": null,
   "metadata": {},
   "outputs": [],
   "source": [
    "locobot.shutdown()"
   ]
  },
  {
   "cell_type": "code",
   "execution_count": null,
   "metadata": {},
   "outputs": [],
   "source": []
  }
 ],
 "metadata": {
  "kernelspec": {
   "display_name": "Python 3",
   "language": "python",
   "name": "python3"
  },
  "language_info": {
   "codemirror_mode": {
    "name": "ipython",
    "version": 3
   },
   "file_extension": ".py",
   "mimetype": "text/x-python",
   "name": "python",
   "nbconvert_exporter": "python",
   "pygments_lexer": "ipython3",
   "version": "3.8.10"
  }
 },
 "nbformat": 4,
 "nbformat_minor": 2
}
