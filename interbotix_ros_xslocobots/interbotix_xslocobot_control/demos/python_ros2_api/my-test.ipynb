{
 "cells": [
  {
   "cell_type": "code",
   "execution_count": 1,
   "metadata": {},
   "outputs": [
    {
     "data": {
      "text/plain": [
       "'\\nThis script manipulates the arm\\n\\nRequires the control package to be running.\\n\\nFor physical robot:\\n    ros2 launch interbotix_xslocobot_control xslocobot_control.launch.py robot_model:=locobot_wx200\\n\\nFor simulation only:\\n    ros2 launch interbotix_xslocobot_control xslocobot_control.launch.py robot_model:=locobot_wx200 hardware_type:=fake use_rviz:=true\\n\\n'"
      ]
     },
     "execution_count": 1,
     "metadata": {},
     "output_type": "execute_result"
    }
   ],
   "source": [
    "import math\n",
    "from time import sleep\n",
    "from interbotix_xs_modules.xs_robot.locobot import InterbotixLocobotXS\n",
    "\n",
    "pi=math.pi\n",
    "\"\"\"\n",
    "This script manipulates the arm\n",
    "\n",
    "Requires the control package to be running.\n",
    "\n",
    "For physical robot:\n",
    "    ros2 launch interbotix_xslocobot_control xslocobot_control.launch.py robot_model:=locobot_wx200\n",
    "\n",
    "For simulation only:\n",
    "    ros2 launch interbotix_xslocobot_control xslocobot_control.launch.py robot_model:=locobot_wx200 hardware_type:=fake use_rviz:=true\n",
    "\n",
    "\"\"\""
   ]
  },
  {
   "cell_type": "code",
   "execution_count": null,
   "metadata": {},
   "outputs": [],
   "source": [
    "from interbotix_xs_modules.xs_robot.locobot import InterbotixLocobotXS"
   ]
  },
  {
   "cell_type": "code",
   "execution_count": 2,
   "metadata": {},
   "outputs": [],
   "source": [
    "locobot = InterbotixLocobotXS(\n",
    "        robot_model='locobot_wx200',\n",
    "        arm_model='mobile_wx200',\n",
    "        use_base=False,\n",
    "        use_nav=False,\n",
    "        robot_name='locobot'\n",
    "    )"
   ]
  },
  {
   "cell_type": "code",
   "execution_count": 9,
   "metadata": {},
   "outputs": [],
   "source": [
    "locobot.arm.go_to_sleep_pose(moving_time=2.5, accel_time=1.0)"
   ]
  },
  {
   "cell_type": "code",
   "execution_count": 10,
   "metadata": {},
   "outputs": [],
   "source": [
    "locobot.arm.go_to_home_pose(moving_time=2.5, accel_time=1.0)\n",
    "# locobot.arm.go_to_home_pose()\n",
    "# locobot.arm.go_to_sleep_pose(moving_time=2.5, accel_time=1.0)"
   ]
  },
  {
   "cell_type": "code",
   "execution_count": 11,
   "metadata": {},
   "outputs": [
    {
     "name": "stdout",
     "output_type": "stream",
     "text": [
      "arm trajectory_msgs.msg.JointTrajectory(header=std_msgs.msg.Header(stamp=builtin_interfaces.msg.Time(sec=1715962221, nanosec=25510050), frame_id=''), joint_names=['waist', 'shoulder', 'elbow', 'wrist_angle', 'wrist_rotate'], points=[trajectory_msgs.msg.JointTrajectoryPoint(positions=[0.0, 0.00018310683618880222, 0.012039409798208129, -0.01222251663439693, 0.0], velocities=[], accelerations=[], effort=[], time_from_start=builtin_interfaces.msg.Duration(sec=0, nanosec=0)), trajectory_msgs.msg.JointTrajectoryPoint(positions=[0.0, 0.0, 0.020000000000000018, -0.020000000000000018, 0.0], velocities=[], accelerations=[], effort=[], time_from_start=builtin_interfaces.msg.Duration(sec=0, nanosec=50000000)), trajectory_msgs.msg.JointTrajectoryPoint(positions=[0.0, 0.0005970875093113115, 0.03925894499415694, -0.03985603250346825, 0.0], velocities=[], accelerations=[], effort=[], time_from_start=builtin_interfaces.msg.Duration(sec=0, nanosec=100000000)), trajectory_msgs.msg.JointTrajectoryPoint(positions=[0.0, 0.0015822387591999387, 0.05804768956495421, -0.05962992832415415, 0.0], velocities=[], accelerations=[], effort=[], time_from_start=builtin_interfaces.msg.Duration(sec=0, nanosec=150000000)), trajectory_msgs.msg.JointTrajectoryPoint(positions=[0.0, 0.0029521461943624594, 0.07637674197944744, -0.0793288881738099, 0.0], velocities=[], accelerations=[], effort=[], time_from_start=builtin_interfaces.msg.Duration(sec=0, nanosec=200000000)), trajectory_msgs.msg.JointTrajectoryPoint(positions=[0.0, 0.004702934192172936, 0.09425672318907408, -0.09895965738124746, 0.0], velocities=[], accelerations=[], effort=[], time_from_start=builtin_interfaces.msg.Duration(sec=0, nanosec=250000000)), trajectory_msgs.msg.JointTrajectoryPoint(positions=[0.0, 0.006831169986353025, 0.11169715982587913, -0.1185283298122326, 0.0], velocities=[], accelerations=[], effort=[], time_from_start=builtin_interfaces.msg.Duration(sec=0, nanosec=300000000)), trajectory_msgs.msg.JointTrajectoryPoint(positions=[0.0, 0.009333801410871256, 0.12870658823524384, -0.13804038964611554, 0.0], velocities=[], accelerations=[], effort=[], time_from_start=builtin_interfaces.msg.Duration(sec=0, nanosec=350000000)), trajectory_msgs.msg.JointTrajectoryPoint(positions=[0.0, 0.012208104682536636, 0.14529264191249558, -0.15750074659503266, 0.0], velocities=[], accelerations=[], effort=[], time_from_start=builtin_interfaces.msg.Duration(sec=0, nanosec=400000000)), trajectory_msgs.msg.JointTrajectoryPoint(positions=[0.0, 0.015451636706536931, 0.16146212915447666, -0.17691376586101448, 0.0], velocities=[], accelerations=[], effort=[], time_from_start=builtin_interfaces.msg.Duration(sec=0, nanosec=450000000)), trajectory_msgs.msg.JointTrajectoryPoint(positions=[0.0, 0.019062191236890236, 0.17722110233980004, -0.19628329357669116, 0.0], velocities=[], accelerations=[], effort=[], time_from_start=builtin_interfaces.msg.Duration(sec=0, nanosec=500000000)), trajectory_msgs.msg.JointTrajectoryPoint(positions=[0.0, 0.023037758332455915, 0.19257492002986476, -0.21561267836232156, 0.0], velocities=[], accelerations=[], effort=[], time_from_start=builtin_interfaces.msg.Duration(sec=0, nanosec=550000000)), trajectory_msgs.msg.JointTrajectoryPoint(positions=[0.0, 0.02737648664523773, 0.2075283028977375, -0.2349047895429761, 0.0], velocities=[], accelerations=[], effort=[], time_from_start=builtin_interfaces.msg.Duration(sec=0, nanosec=600000000)), trajectory_msgs.msg.JointTrajectoryPoint(positions=[0.0, 0.03207664815821154, 0.22208538433922032, -0.25416203249743274, 0.0], velocities=[], accelerations=[], effort=[], time_from_start=builtin_interfaces.msg.Duration(sec=0, nanosec=650000000)), trajectory_msgs.msg.JointTrajectoryPoint(positions=[0.0, 0.03713660505784189, 0.23624975649369473, -0.2733863615515375, 0.0], velocities=[], accelerations=[], effort=[], time_from_start=builtin_interfaces.msg.Duration(sec=0, nanosec=700000000)), trajectory_msgs.msg.JointTrajectoryPoint(positions=[0.0, 0.04255477848422551, 0.250024512296533, -0.2925792907807594, 0.0], velocities=[], accelerations=[], effort=[], time_from_start=builtin_interfaces.msg.Duration(sec=0, nanosec=750000000)), trajectory_msgs.msg.JointTrajectoryPoint(positions=[0.0, 0.04832961895136645, 0.26341228409603845, -0.3117419030474058, 0.0], velocities=[], accelerations=[], effort=[], time_from_start=builtin_interfaces.msg.Duration(sec=0, nanosec=800000000)), trajectory_msgs.msg.JointTrajectoryPoint(positions=[0.0, 0.054459578272893605, 0.27641527929291243, -0.3308748575658069, 0.0], velocities=[], accelerations=[], effort=[], time_from_start=builtin_interfaces.msg.Duration(sec=0, nanosec=850000000)), trajectory_msgs.msg.JointTrajectoryPoint(positions=[0.0, 0.06094308286579997, 0.2890353133965289, -0.34997839626232974, 0.0], velocities=[], accelerations=[], effort=[], time_from_start=builtin_interfaces.msg.Duration(sec=0, nanosec=900000000)), trajectory_msgs.msg.JointTrajectoryPoint(positions=[0.0, 0.06777850833735366, 0.30127384083789943, -0.369052349175254, 0.0], velocities=[], accelerations=[], effort=[], time_from_start=builtin_interfaces.msg.Duration(sec=0, nanosec=950000000)), trajectory_msgs.msg.JointTrajectoryPoint(positions=[0.0, 0.07496415528901723, 0.31313198383234475, -0.3880961391213624, 0.0], velocities=[], accelerations=[], effort=[], time_from_start=builtin_interfaces.msg.Duration(sec=0, nanosec=1000000000)), trajectory_msgs.msg.JointTrajectoryPoint(positions=[0.0, 0.08249822629646264, 0.32461055954438756, -0.4071087858408502, 0.0], velocities=[], accelerations=[], effort=[], time_from_start=builtin_interfaces.msg.Duration(sec=0, nanosec=1050000000)), trajectory_msgs.msg.JointTrajectoryPoint(positions=[0.0, 0.09037880404708032, 0.3357101057720375, -0.42608890981911784, 0.0], velocities=[], accelerations=[], effort=[], time_from_start=builtin_interfaces.msg.Duration(sec=0, nanosec=1100000000)), trajectory_msgs.msg.JointTrajectoryPoint(positions=[0.0, 0.09860383063597888, 0.3464309053366117, -0.4450347359725906, 0.0], velocities=[], accelerations=[], effort=[], time_from_start=builtin_interfaces.msg.Duration(sec=0, nanosec=1150000000)), trajectory_msgs.msg.JointTrajectoryPoint(positions=[0.0, 0.10717108803866848, 0.35677300933685974, -0.4639440973755282, 0.0], velocities=[], accelerations=[], effort=[], time_from_start=builtin_interfaces.msg.Duration(sec=0, nanosec=1200000000)), trajectory_msgs.msg.JointTrajectoryPoint(positions=[0.0, 0.116078179793484, 0.36673625940174626, -0.48281443919523026, 0.0], velocities=[], accelerations=[], effort=[], time_from_start=builtin_interfaces.msg.Duration(sec=0, nanosec=1250000000)), trajectory_msgs.msg.JointTrajectoryPoint(positions=[0.0, 0.1253225139394516, 0.37632030905446534, -0.5016428229939169, 0.0], velocities=[], accelerations=[], effort=[], time_from_start=builtin_interfaces.msg.Duration(sec=0, nanosec=1300000000)), trajectory_msgs.msg.JointTrajectoryPoint(positions=[0.0, 0.13490128726584238, 0.38552464428055844, -0.5204259315464013, 0.0], velocities=[], accelerations=[], effort=[], time_from_start=builtin_interfaces.msg.Duration(sec=0, nanosec=1350000000)), trajectory_msgs.msg.JointTrajectoryPoint(positions=[0.0, 0.14481147093797375, 0.39434860337527367, -0.5391600743132479, 0.0], velocities=[], accelerations=[], effort=[], time_from_start=builtin_interfaces.msg.Duration(sec=0, nanosec=1400000000)), trajectory_msgs.msg.JointTrajectoryPoint(positions=[0.0, 0.15504979757006598, 0.4027913961291252, -0.5578411936991916, 0.0], velocities=[], accelerations=[], effort=[], time_from_start=builtin_interfaces.msg.Duration(sec=0, nanosec=1450000000)), trajectory_msgs.msg.JointTrajectoryPoint(positions=[0.0, 0.1656127498200055, 0.41085212239590607, -0.5764648722159125, 0.0], velocities=[], accelerations=[], effort=[], time_from_start=builtin_interfaces.msg.Duration(sec=0, nanosec=1500000000)), trajectory_msgs.msg.JointTrajectoryPoint(positions=[0.0, 0.17649655058270053, 0.4185297900740226, -0.5950263406567244, 0.0], velocities=[], accelerations=[], effort=[], time_from_start=builtin_interfaces.msg.Duration(sec=0, nanosec=1550000000)), trajectory_msgs.msg.JointTrajectoryPoint(positions=[0.0, 0.18769715485841187, 0.42582333251975246, -0.6135204873781657, 0.0], velocities=[], accelerations=[], effort=[], time_from_start=builtin_interfaces.msg.Duration(sec=0, nanosec=1600000000)), trajectory_msgs.msg.JointTrajectoryPoint(positions=[0.0, 0.1992102433698424, 0.43273162540001486, -0.6319418687698581, 0.0], velocities=[], accelerations=[], effort=[], time_from_start=builtin_interfaces.msg.Duration(sec=0, nanosec=1650000000)), trajectory_msgs.msg.JointTrajectoryPoint(positions=[0.0, 0.2110312179970384, 0.43925350298215715, -0.6502847209791964, 0.0], velocities=[], accelerations=[], effort=[], time_from_start=builtin_interfaces.msg.Duration(sec=0, nanosec=1700000000)), trajectory_msgs.msg.JointTrajectoryPoint(positions=[0.0, 0.2231551990922287, 0.4453877738493466, -0.6685429729415766, 0.0], velocities=[], accelerations=[], effort=[], time_from_start=builtin_interfaces.msg.Duration(sec=0, nanosec=1750000000)), trajectory_msgs.msg.JointTrajectoryPoint(positions=[0.0, 0.2355770247277036, 0.45113323602220046, -0.6867102607499054, 0.0], velocities=[], accelerations=[], effort=[], time_from_start=builtin_interfaces.msg.Duration(sec=0, nanosec=1800000000)), trajectory_msgs.msg.JointTrajectoryPoint(positions=[0.0, 0.2482912519188547, 0.45648869146041937, -0.7047799433792754, 0.0], velocities=[], accelerations=[], effort=[], time_from_start=builtin_interfaces.msg.Duration(sec=0, nanosec=1850000000)), trajectory_msgs.msg.JointTrajectoryPoint(positions=[0.0, 0.26129215985163157, 0.4614529599123447, -0.7227451197639772, 0.0], velocities=[], accelerations=[], effort=[], time_from_start=builtin_interfaces.msg.Duration(sec=0, nanosec=1900000000)), trajectory_msgs.msg.JointTrajectoryPoint(positions=[0.0, 0.2745737551291496, 0.4660248920755645, -0.740598647204715, 0.0], velocities=[], accelerations=[], effort=[], time_from_start=builtin_interfaces.msg.Duration(sec=0, nanosec=1950000000)), trajectory_msgs.msg.JointTrajectoryPoint(positions=[0.0, 0.2881297790362414, 0.47020338202801515, -0.758333161064257, 0.0], velocities=[], accelerations=[], effort=[], time_from_start=builtin_interfaces.msg.Duration(sec=0, nanosec=2000000000)), trajectory_msgs.msg.JointTrajectoryPoint(positions=[0.0, 0.3019537168035784, 0.4739873788863256, -0.7759410956899044, 0.0], velocities=[], accelerations=[], effort=[], time_from_start=builtin_interfaces.msg.Duration(sec=0, nanosec=2050000000)), trajectory_msgs.msg.JointTrajectoryPoint(positions=[0.0, 0.3160388088349828, 0.4773758976466711, -0.7934147064816544, 0.0], velocities=[], accelerations=[], effort=[], time_from_start=builtin_interfaces.msg.Duration(sec=0, nanosec=2100000000)), trajectory_msgs.msg.JointTrajectoryPoint(positions=[0.0, 0.33037806384292834, 0.4803680291628307, -0.8107460930057595, 0.0], velocities=[], accelerations=[], effort=[], time_from_start=builtin_interfaces.msg.Duration(sec=0, nanosec=2150000000)), trajectory_msgs.msg.JointTrajectoryPoint(positions=[0.0, 0.3449642738184737, 0.48296294921675464, -0.8279272230352288, 0.0], velocities=[], accelerations=[], effort=[], time_from_start=builtin_interfaces.msg.Duration(sec=0, nanosec=2200000000)), trajectory_msgs.msg.JointTrajectoryPoint(positions=[0.0, 0.3597900307432229, 0.4851599266384592, -0.844949957381683, 0.0], velocities=[], accelerations=[], effort=[], time_from_start=builtin_interfaces.msg.Duration(sec=0, nanosec=2250000000)), trajectory_msgs.msg.JointTrajectoryPoint(positions=[0.0, 0.37484774493284156, 0.4869583304346432, -0.8618060753674857, 0.0], velocities=[], accelerations=[], effort=[], time_from_start=builtin_interfaces.msg.Duration(sec=0, nanosec=2300000000)), trajectory_msgs.msg.JointTrajectoryPoint(positions=[0.0, 0.39012966488449097, 0.4883576358887938, -0.8784873007732856, 0.0], velocities=[], accelerations=[], effort=[], time_from_start=builtin_interfaces.msg.Duration(sec=0, nanosec=2350000000)), trajectory_msgs.msg.JointTrajectoryPoint(positions=[0.0, 0.4056278984847319, 0.48935742959980066, -0.894985328084533, 0.0], velocities=[], accelerations=[], effort=[], time_from_start=builtin_interfaces.msg.Duration(sec=0, nanosec=2400000000)), trajectory_msgs.msg.JointTrajectoryPoint(positions=[0.0, 0.42133443542017, 0.48995741343109867, -0.9112918488512691, 0.0], velocities=[], accelerations=[], effort=[], time_from_start=builtin_interfaces.msg.Duration(sec=0, nanosec=2450000000)), trajectory_msgs.msg.JointTrajectoryPoint(positions=[0.0, 0.4372411706209469, 0.4901574073478261, -0.9273985779687739, 0.0], velocities=[], accelerations=[], effort=[], time_from_start=builtin_interfaces.msg.Duration(sec=0, nanosec=2500000000))])\n"
     ]
    },
    {
     "data": {
      "text/plain": [
       "True"
      ]
     },
     "execution_count": 11,
     "metadata": {},
     "output_type": "execute_result"
    }
   ],
   "source": [
    "# locobot.arm.go_to_home_pose()\n",
    "locobot.arm.set_ee_cartesian_trajectory(z=-0.2, wp_moving_time=0.5)\n",
    "# locobot.arm.set_ee_cartesian_trajectory(x=-0.2, wp_moving_time=0.5)\n",
    "# locobot.arm.set_ee_cartesian_trajectory(z=0.1, wp_moving_time=0.5)\n",
    "# locobot.arm.set_ee_cartesian_trajectory(x=0.2, wp_moving_time=0.5)\n",
    "# locobot.arm.go_to_sleep_pose()"
   ]
  },
  {
   "cell_type": "code",
   "execution_count": null,
   "metadata": {},
   "outputs": [],
   "source": [
    "ee_pose_home = locobot.arm.get_ee_pose_command()[:,-1]"
   ]
  },
  {
   "cell_type": "code",
   "execution_count": null,
   "metadata": {},
   "outputs": [],
   "source": [
    "ee_pose_home"
   ]
  },
  {
   "cell_type": "code",
   "execution_count": null,
   "metadata": {},
   "outputs": [],
   "source": [
    "joint_names = locobot.arm.group_info.joint_names\n",
    "print(joint_names)"
   ]
  },
  {
   "cell_type": "code",
   "execution_count": null,
   "metadata": {},
   "outputs": [],
   "source": [
    "positions=[[pi/6, pi/12, pi/8, 0, 0],\n",
    "           [pi/8, pi/24, pi/16, 0, 0],\n",
    "           [0.0]*5,\n",
    "]\n",
    "durations = [2.0, 1.25, 1.25]"
   ]
  },
  {
   "cell_type": "code",
   "execution_count": null,
   "metadata": {},
   "outputs": [],
   "source": [
    "locobot.arm.set_joint_positions(positions[0], moving_time=durations[0])"
   ]
  },
  {
   "cell_type": "code",
   "execution_count": null,
   "metadata": {},
   "outputs": [],
   "source": [
    "ee_pose_home"
   ]
  },
  {
   "cell_type": "code",
   "execution_count": null,
   "metadata": {},
   "outputs": [],
   "source": [
    "x0 = 0.3\n",
    "ee_positions = [ee_pose_home[:3],\n",
    "                [x0, 0.1, 0.15],\n",
    "                [x0, 0.175, 0.15],\n",
    "                [x0, 0.275, 0.3],\n",
    "                [x0, 0.175, 0.45],\n",
    "                [x0, 0.1, 0.45],\n",
    "                [x0, 0, 0.3],\n",
    "                [x0, -0.1, 0.15],\n",
    "                [x0, -0.175, 0.15],\n",
    "                [x0, -0.275, 0.3],\n",
    "                [x0, -0.175, 0.45],\n",
    "                [x0, -0.1, 0.45],\n",
    "                ee_pose_home[:3],\n",
    "                ]"
   ]
  },
  {
   "cell_type": "code",
   "execution_count": null,
   "metadata": {},
   "outputs": [],
   "source": [
    "for ee_pos_i, ee_pos in enumerate(ee_positions):\n",
    "    x,y,z=ee_pos\n",
    "    _, result = locobot.arm.set_ee_pose_components(x=x,y=y,z=z,moving_time=1.5)\n",
    "    print(result)"
   ]
  },
  {
   "cell_type": "code",
   "execution_count": null,
   "metadata": {},
   "outputs": [],
   "source": [
    "locobot.arm.set_ee_pose_components(x=0.2,y=0.0,z=0.3,moving_time=2.0)"
   ]
  },
  {
   "cell_type": "code",
   "execution_count": null,
   "metadata": {},
   "outputs": [],
   "source": [
    "locobot.gripper.set_pressure(0.1)"
   ]
  },
  {
   "cell_type": "code",
   "execution_count": null,
   "metadata": {},
   "outputs": [],
   "source": [
    "locobot.gripper.grasp()"
   ]
  },
  {
   "cell_type": "code",
   "execution_count": null,
   "metadata": {},
   "outputs": [],
   "source": [
    "locobot.arm.set_ee_pose_components(x=0.333,y=0.192,z=0.066,moving_time=2.0)"
   ]
  },
  {
   "cell_type": "code",
   "execution_count": null,
   "metadata": {},
   "outputs": [],
   "source": [
    "locobot.arm.set_ee_pose_components(x=0.33,y=0.14,z=0.036,moving_time=2.0)"
   ]
  },
  {
   "cell_type": "code",
   "execution_count": null,
   "metadata": {},
   "outputs": [],
   "source": [
    "locobot.arm.set_ee_pose_components(x=0.25,y=0.0,z=0.25,moving_time=2.0)"
   ]
  },
  {
   "cell_type": "code",
   "execution_count": null,
   "metadata": {},
   "outputs": [],
   "source": [
    "locobot.arm.get_ee_pose_command()"
   ]
  },
  {
   "cell_type": "code",
   "execution_count": null,
   "metadata": {},
   "outputs": [],
   "source": [
    "for i in range(3):\n",
    "    for pos_i, pos in enumerate(positions):\n",
    "        locobot.arm.set_joint_positions(pos, moving_time=durations[pos_i])"
   ]
  },
  {
   "cell_type": "code",
   "execution_count": null,
   "metadata": {},
   "outputs": [],
   "source": [
    "jvalues, success = locobot.arm.set_ee_pose_components(x=0, y=0, z=1, roll=0.0, pitch=0, moving_time=1.5)\n",
    "print('Path found:', success)\n"
   ]
  },
  {
   "cell_type": "code",
   "execution_count": null,
   "metadata": {},
   "outputs": [],
   "source": [
    "# locobot.arm.go_to_home_pose()\n",
    "# locobot.arm.set_ee_pose_components(x=0.2, y=0.1, z=0.2, roll=1.0, pitch=1.5)\n",
    "# locobot.arm.go_to_home_pose()\n",
    "# locobot.arm.go_to_sleep_pose(moving_time=2.0, accel_time=1.0)"
   ]
  },
  {
   "cell_type": "code",
   "execution_count": null,
   "metadata": {},
   "outputs": [],
   "source": [
    "locobot.arm.go_to_home_pose(moving_time=2.5, accel_time=1.0)"
   ]
  },
  {
   "cell_type": "code",
   "execution_count": null,
   "metadata": {},
   "outputs": [],
   "source": [
    "locobot.arm.go_to_sleep_pose(moving_time=2.5, accel_time=1.0)"
   ]
  },
  {
   "cell_type": "code",
   "execution_count": null,
   "metadata": {},
   "outputs": [],
   "source": [
    "locobot.arm.go_to_sleep_pose()"
   ]
  },
  {
   "cell_type": "code",
   "execution_count": null,
   "metadata": {},
   "outputs": [],
   "source": [
    "locobot.arm.set_single_joint_position('wrist_rotate', -pi/4.0, moving_time=2.5)\n",
    "locobot.arm.set_single_joint_position('wrist_rotate', pi/4.0, moving_time=4.0)\n",
    "locobot.arm.set_single_joint_position('wrist_rotate', 0.0, moving_time=2.5)\n",
    "\n"
   ]
  },
  {
   "cell_type": "code",
   "execution_count": null,
   "metadata": {},
   "outputs": [],
   "source": [
    "locobot.arm.set_joint_positions([pi/6, pi/12, pi/8, pi/8, 0], moving_time=2)"
   ]
  },
  {
   "cell_type": "code",
   "execution_count": null,
   "metadata": {},
   "outputs": [],
   "source": [
    "# joint_positions = [0, 0, 0, 0, 0]\n",
    "\n",
    "# locobot.arm.go_to_home_pose(moving_time=2.5, accel_time=1.0)\n",
    "# sleep(2)\n",
    "locobot.arm.set_joint_positions([0, 0, 0, 0, -0.5], moving_time=0.4)\n",
    "\n",
    "locobot.arm.set_joint_positions([0, 0, 0, 0, 0.5], moving_time=0.6)\n",
    "\n",
    "locobot.arm.set_joint_positions([0, 0, 0, 0, 0], moving_time=0.4)\n",
    "\n",
    "# sleep(2)\n",
    "# locobot.arm.go_to_home_pose()\n",
    "# locobot.arm.go_to_sleep_pose()\n"
   ]
  },
  {
   "cell_type": "code",
   "execution_count": null,
   "metadata": {},
   "outputs": [],
   "source": [
    "locobot.arm.go_to_home_pose()\n",
    "locobot.arm.set_ee_pose_components(x=0.2, y=0.1, z=0.2, roll=1.0, pitch=1.5)\n",
    "locobot.arm.go_to_home_pose()"
   ]
  },
  {
   "cell_type": "code",
   "execution_count": null,
   "metadata": {},
   "outputs": [],
   "source": [
    "locobot.shutdown()"
   ]
  },
  {
   "cell_type": "code",
   "execution_count": null,
   "metadata": {},
   "outputs": [],
   "source": []
  }
 ],
 "metadata": {
  "kernelspec": {
   "display_name": "Python 3",
   "language": "python",
   "name": "python3"
  },
  "language_info": {
   "codemirror_mode": {
    "name": "ipython",
    "version": 3
   },
   "file_extension": ".py",
   "mimetype": "text/x-python",
   "name": "python",
   "nbconvert_exporter": "python",
   "pygments_lexer": "ipython3",
   "version": "3.8.10"
  }
 },
 "nbformat": 4,
 "nbformat_minor": 2
}
