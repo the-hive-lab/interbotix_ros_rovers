{
 "cells": [
  {
   "cell_type": "code",
   "execution_count": 1,
   "metadata": {},
   "outputs": [
    {
     "data": {
      "text/plain": [
       "'\\nThis script manipulates the arm\\n\\nRequires the control package to be running.\\n\\nFor physical robot:\\n    ros2 launch interbotix_xslocobot_control xslocobot_control.launch.py robot_model:=locobot_wx200\\n\\nFor simulation only:\\n    ros2 launch interbotix_xslocobot_control xslocobot_control.launch.py robot_model:=locobot_wx200 hardware_type:=fake use_rviz:=true use_sim:=true\\n'"
      ]
     },
     "execution_count": 1,
     "metadata": {},
     "output_type": "execute_result"
    }
   ],
   "source": [
    "import math\n",
    "from time import sleep\n",
    "import matplotlib.pyplot as plt\n",
    "\n",
    "from interbotix_xs_modules.xs_robot.locobot import InterbotixLocobotXS\n",
    "\n",
    "pi=math.pi\n",
    "\"\"\"\n",
    "This script manipulates the arm\n",
    "\n",
    "Requires the control package to be running.\n",
    "\n",
    "For physical robot:\n",
    "    ros2 launch interbotix_xslocobot_control xslocobot_control.launch.py robot_model:=locobot_wx200\n",
    "\n",
    "For simulation only:\n",
    "    ros2 launch interbotix_xslocobot_control xslocobot_control.launch.py robot_model:=locobot_wx200 hardware_type:=fake use_rviz:=true use_sim:=true\n",
    "\"\"\""
   ]
  },
  {
   "cell_type": "code",
   "execution_count": 2,
   "metadata": {},
   "outputs": [],
   "source": [
    "locobot = InterbotixLocobotXS(\n",
    "        robot_model='locobot_wx200',\n",
    "        arm_model='mobile_wx200',\n",
    "        use_base=False,\n",
    "        use_nav=False,\n",
    "        robot_name='locobot'\n",
    "    )"
   ]
  },
  {
   "cell_type": "code",
   "execution_count": 20,
   "metadata": {},
   "outputs": [],
   "source": [
    "locobot.arm.go_to_sleep_pose(moving_time=2.5, accel_time=1.0)"
   ]
  },
  {
   "cell_type": "code",
   "execution_count": 19,
   "metadata": {},
   "outputs": [],
   "source": [
    "locobot.arm.go_to_home_pose(moving_time=2.5, accel_time=1.0)\n",
    "# locobot.arm.go_to_home_pose()\n",
    "# locobot.arm.go_to_sleep_pose(moving_time=2.5, accel_time=1.0)"
   ]
  },
  {
   "cell_type": "code",
   "execution_count": 5,
   "metadata": {},
   "outputs": [],
   "source": [
    "wps = [[0.3,0.2,0,0,0],\n",
    "       [-0.3,0,0,0,0],\n",
    "       [0.3,-0.2,0,0,0]]\n",
    "\n",
    "durations = [1.0,1.0,1.0]"
   ]
  },
  {
   "cell_type": "code",
   "execution_count": 6,
   "metadata": {},
   "outputs": [],
   "source": [
    "for i in range(len(wps)):\n",
    "    locobot.arm.set_joint_positions(wps[i], moving_time=durations[i])"
   ]
  },
  {
   "cell_type": "code",
   "execution_count": 7,
   "metadata": {},
   "outputs": [
    {
     "data": {
      "text/plain": [
       "True"
      ]
     },
     "execution_count": 7,
     "metadata": {},
     "output_type": "execute_result"
    }
   ],
   "source": [
    "locobot.arm.set_joint_positions(wps[0], moving_time=durations[0])"
   ]
  },
  {
   "cell_type": "code",
   "execution_count": 17,
   "metadata": {},
   "outputs": [
    {
     "name": "stdout",
     "output_type": "stream",
     "text": [
      "[trajectory_msgs.msg.JointTrajectoryPoint(positions=[-0.023009711876511574, 0.004601942375302315, 0.04448544234037399, 0.006135923322290182, 0.0], velocities=[], accelerations=[], effort=[], time_from_start=builtin_interfaces.msg.Duration(sec=0, nanosec=0)), trajectory_msgs.msg.JointTrajectoryPoint(positions=[0.15, 0.1, 0.0, 0.0, 0.0], velocities=[], accelerations=[], effort=[], time_from_start=builtin_interfaces.msg.Duration(sec=0, nanosec=400000000)), trajectory_msgs.msg.JointTrajectoryPoint(positions=[0.3, 0.2, 0.0, 0.0, 0.0], velocities=[], accelerations=[], effort=[], time_from_start=builtin_interfaces.msg.Duration(sec=0, nanosec=800000000)), trajectory_msgs.msg.JointTrajectoryPoint(positions=[0.44999999999999996, 0.30000000000000004, 0.0, 0.0, 0.0], velocities=[], accelerations=[], effort=[], time_from_start=builtin_interfaces.msg.Duration(sec=0, nanosec=1200000000)), trajectory_msgs.msg.JointTrajectoryPoint(positions=[0.14999999999999997, 0.20000000000000004, 0.0, 0.0, 0.0], velocities=[], accelerations=[], effort=[], time_from_start=builtin_interfaces.msg.Duration(sec=0, nanosec=1600000000)), trajectory_msgs.msg.JointTrajectoryPoint(positions=[-0.15000000000000002, 0.10000000000000003, 0.0, 0.0, 0.0], velocities=[], accelerations=[], effort=[], time_from_start=builtin_interfaces.msg.Duration(sec=0, nanosec=2000000000)), trajectory_msgs.msg.JointTrajectoryPoint(positions=[-0.45, 2.7755575615628914e-17, 0.0, 0.0, 0.0], velocities=[], accelerations=[], effort=[], time_from_start=builtin_interfaces.msg.Duration(sec=0, nanosec=2400000000)), trajectory_msgs.msg.JointTrajectoryPoint(positions=[-0.15000000000000002, -0.09999999999999998, 0.0, 0.0, 0.0], velocities=[], accelerations=[], effort=[], time_from_start=builtin_interfaces.msg.Duration(sec=0, nanosec=2800000000)), trajectory_msgs.msg.JointTrajectoryPoint(positions=[0.14999999999999997, -0.19999999999999998, 0.0, 0.0, 0.0], velocities=[], accelerations=[], effort=[], time_from_start=builtin_interfaces.msg.Duration(sec=0, nanosec=3200000000))]\n"
     ]
    },
    {
     "data": {
      "text/plain": [
       "True"
      ]
     },
     "execution_count": 17,
     "metadata": {},
     "output_type": "execute_result"
    }
   ],
   "source": [
    "locobot.arm.follow_waypoint_trajectory(wps[:], durations, midwp_period=0.4)"
   ]
  },
  {
   "cell_type": "code",
   "execution_count": 15,
   "metadata": {},
   "outputs": [
    {
     "data": {
      "text/plain": [
       "array([ 0.27, -0.18,  0.  ,  0.  ,  0.  ])"
      ]
     },
     "execution_count": 15,
     "metadata": {},
     "output_type": "execute_result"
    }
   ],
   "source": [
    "locobot.arm.joint_commands"
   ]
  },
  {
   "cell_type": "code",
   "execution_count": null,
   "metadata": {},
   "outputs": [],
   "source": [
    "#### Regex to extract from trajectory points print to csv: positions=\\[([^=]*)\\], ve\n",
    "\n",
    "import csv\n",
    "with open(r'/home/perfdev/hive_interbotix_ws/src/interbotix_ros_rovers/interbotix_ros_xslocobots/interbotix_xslocobot_control/demos/python_ros2_api/myJointTrajPoints.csv', \n",
    "          mode ='r')as file:\n",
    "    csvFile = csv.reader(file)\n",
    "    data = []\n",
    "    for lines in csvFile:\n",
    "        data.append(lines)\n"
   ]
  },
  {
   "cell_type": "code",
   "execution_count": null,
   "metadata": {},
   "outputs": [],
   "source": [
    "useful_data = data[2::2]"
   ]
  },
  {
   "cell_type": "code",
   "execution_count": null,
   "metadata": {},
   "outputs": [],
   "source": [
    "positions = [list(map(float, x[-1].split(',')))[:2] for x in useful_data]"
   ]
  },
  {
   "cell_type": "code",
   "execution_count": null,
   "metadata": {},
   "outputs": [],
   "source": [
    "plt.plot([x[0] for x in positions], [x[1] for x in positions], '.-')\n",
    "plt.show()"
   ]
  },
  {
   "cell_type": "code",
   "execution_count": null,
   "metadata": {},
   "outputs": [],
   "source": [
    "# locobot.arm.go_to_home_pose()\n",
    "locobot.arm.set_ee_cartesian_trajectory(z=-0.2, wp_moving_time=0.5)\n",
    "# locobot.arm.set_ee_cartesian_trajectory(x=-0.2, wp_moving_time=0.5)\n",
    "# locobot.arm.set_ee_cartesian_trajectory(z=0.1, wp_moving_time=0.5)\n",
    "# locobot.arm.set_ee_cartesian_trajectory(x=0.2, wp_moving_time=0.5)\n",
    "# locobot.arm.go_to_sleep_pose()"
   ]
  },
  {
   "cell_type": "code",
   "execution_count": null,
   "metadata": {},
   "outputs": [],
   "source": [
    "locobot.arm.joint_commands"
   ]
  },
  {
   "cell_type": "code",
   "execution_count": null,
   "metadata": {},
   "outputs": [],
   "source": [
    "ee_pose_home = locobot.arm.get_ee_pose_command()[:,-1]"
   ]
  },
  {
   "cell_type": "code",
   "execution_count": null,
   "metadata": {},
   "outputs": [],
   "source": [
    "ee_pose_home"
   ]
  },
  {
   "cell_type": "code",
   "execution_count": null,
   "metadata": {},
   "outputs": [],
   "source": [
    "joint_names = locobot.arm.group_info.joint_names\n",
    "print(joint_names)"
   ]
  },
  {
   "cell_type": "code",
   "execution_count": null,
   "metadata": {},
   "outputs": [],
   "source": [
    "positions=[[pi/6, pi/12, pi/8, 0, 0],\n",
    "           [pi/8, pi/24, pi/16, 0, 0],\n",
    "           [0.0]*5,\n",
    "]\n",
    "durations = [2.0, 1.25, 1.25]"
   ]
  },
  {
   "cell_type": "code",
   "execution_count": null,
   "metadata": {},
   "outputs": [],
   "source": [
    "locobot.arm.set_joint_positions(positions[0], moving_time=durations[0])"
   ]
  },
  {
   "cell_type": "code",
   "execution_count": null,
   "metadata": {},
   "outputs": [],
   "source": [
    "ee_pose_home"
   ]
  },
  {
   "cell_type": "code",
   "execution_count": null,
   "metadata": {},
   "outputs": [],
   "source": [
    "x0 = 0.3\n",
    "ee_positions = [ee_pose_home[:3],\n",
    "                [x0, 0.1, 0.15],\n",
    "                [x0, 0.175, 0.15],\n",
    "                [x0, 0.275, 0.3],\n",
    "                [x0, 0.175, 0.45],\n",
    "                [x0, 0.1, 0.45],\n",
    "                [x0, 0, 0.3],\n",
    "                [x0, -0.1, 0.15],\n",
    "                [x0, -0.175, 0.15],\n",
    "                [x0, -0.275, 0.3],\n",
    "                [x0, -0.175, 0.45],\n",
    "                [x0, -0.1, 0.45],\n",
    "                ee_pose_home[:3],\n",
    "                ]"
   ]
  },
  {
   "cell_type": "code",
   "execution_count": null,
   "metadata": {},
   "outputs": [],
   "source": [
    "for ee_pos_i, ee_pos in enumerate(ee_positions):\n",
    "    x,y,z=ee_pos\n",
    "    _, result = locobot.arm.set_ee_pose_components(x=x,y=y,z=z,moving_time=1.5)\n",
    "    print(result)"
   ]
  },
  {
   "cell_type": "code",
   "execution_count": null,
   "metadata": {},
   "outputs": [],
   "source": [
    "locobot.arm.set_ee_pose_components(x=0.2,y=0.0,z=0.3,moving_time=2.0)"
   ]
  },
  {
   "cell_type": "code",
   "execution_count": null,
   "metadata": {},
   "outputs": [],
   "source": [
    "locobot.gripper.set_pressure(0.1)"
   ]
  },
  {
   "cell_type": "code",
   "execution_count": null,
   "metadata": {},
   "outputs": [],
   "source": [
    "locobot.gripper.grasp()"
   ]
  },
  {
   "cell_type": "code",
   "execution_count": null,
   "metadata": {},
   "outputs": [],
   "source": [
    "locobot.arm.set_ee_pose_components(x=0.333,y=0.192,z=0.066,moving_time=2.0)"
   ]
  },
  {
   "cell_type": "code",
   "execution_count": null,
   "metadata": {},
   "outputs": [],
   "source": [
    "locobot.arm.set_ee_pose_components(x=0.33,y=0.14,z=0.036,moving_time=2.0)"
   ]
  },
  {
   "cell_type": "code",
   "execution_count": null,
   "metadata": {},
   "outputs": [],
   "source": [
    "locobot.arm.set_ee_pose_components(x=0.25,y=0.0,z=0.25,moving_time=2.0)"
   ]
  },
  {
   "cell_type": "code",
   "execution_count": null,
   "metadata": {},
   "outputs": [],
   "source": [
    "locobot.arm.get_ee_pose_command()"
   ]
  },
  {
   "cell_type": "code",
   "execution_count": null,
   "metadata": {},
   "outputs": [],
   "source": [
    "for i in range(3):\n",
    "    for pos_i, pos in enumerate(positions):\n",
    "        locobot.arm.set_joint_positions(pos, moving_time=durations[pos_i])"
   ]
  },
  {
   "cell_type": "code",
   "execution_count": null,
   "metadata": {},
   "outputs": [],
   "source": [
    "jvalues, success = locobot.arm.set_ee_pose_components(x=0, y=0, z=1, roll=0.0, pitch=0, moving_time=1.5)\n",
    "print('Path found:', success)\n"
   ]
  },
  {
   "cell_type": "code",
   "execution_count": null,
   "metadata": {},
   "outputs": [],
   "source": [
    "# locobot.arm.go_to_home_pose()\n",
    "# locobot.arm.set_ee_pose_components(x=0.2, y=0.1, z=0.2, roll=1.0, pitch=1.5)\n",
    "# locobot.arm.go_to_home_pose()\n",
    "# locobot.arm.go_to_sleep_pose(moving_time=2.0, accel_time=1.0)"
   ]
  },
  {
   "cell_type": "code",
   "execution_count": null,
   "metadata": {},
   "outputs": [],
   "source": [
    "locobot.arm.go_to_home_pose(moving_time=2.5, accel_time=1.0)"
   ]
  },
  {
   "cell_type": "code",
   "execution_count": null,
   "metadata": {},
   "outputs": [],
   "source": [
    "locobot.arm.go_to_sleep_pose(moving_time=2.5, accel_time=1.0)"
   ]
  },
  {
   "cell_type": "code",
   "execution_count": null,
   "metadata": {},
   "outputs": [],
   "source": [
    "locobot.arm.go_to_sleep_pose()"
   ]
  },
  {
   "cell_type": "code",
   "execution_count": null,
   "metadata": {},
   "outputs": [],
   "source": [
    "locobot.arm.set_single_joint_position('wrist_rotate', -pi/4.0, moving_time=2.5)\n",
    "locobot.arm.set_single_joint_position('wrist_rotate', pi/4.0, moving_time=4.0)\n",
    "locobot.arm.set_single_joint_position('wrist_rotate', 0.0, moving_time=2.5)\n",
    "\n"
   ]
  },
  {
   "cell_type": "code",
   "execution_count": null,
   "metadata": {},
   "outputs": [],
   "source": [
    "locobot.arm.set_joint_positions([pi/6, pi/12, pi/8, pi/8, 0], moving_time=2)"
   ]
  },
  {
   "cell_type": "code",
   "execution_count": null,
   "metadata": {},
   "outputs": [],
   "source": [
    "# joint_positions = [0, 0, 0, 0, 0]\n",
    "\n",
    "# locobot.arm.go_to_home_pose(moving_time=2.5, accel_time=1.0)\n",
    "# sleep(2)\n",
    "locobot.arm.set_joint_positions([0, 0, 0, 0, -0.5], moving_time=0.4)\n",
    "\n",
    "locobot.arm.set_joint_positions([0, 0, 0, 0, 0.5], moving_time=0.6)\n",
    "\n",
    "locobot.arm.set_joint_positions([0, 0, 0, 0, 0], moving_time=0.4)\n",
    "\n",
    "# sleep(2)\n",
    "# locobot.arm.go_to_home_pose()\n",
    "# locobot.arm.go_to_sleep_pose()\n"
   ]
  },
  {
   "cell_type": "code",
   "execution_count": null,
   "metadata": {},
   "outputs": [],
   "source": [
    "locobot.arm.go_to_home_pose()\n",
    "locobot.arm.set_ee_pose_components(x=0.2, y=0.1, z=0.2, roll=1.0, pitch=1.5)\n",
    "locobot.arm.go_to_home_pose()"
   ]
  },
  {
   "cell_type": "code",
   "execution_count": null,
   "metadata": {},
   "outputs": [],
   "source": [
    "locobot.shutdown()"
   ]
  },
  {
   "cell_type": "code",
   "execution_count": null,
   "metadata": {},
   "outputs": [],
   "source": []
  }
 ],
 "metadata": {
  "kernelspec": {
   "display_name": "Python 3",
   "language": "python",
   "name": "python3"
  },
  "language_info": {
   "codemirror_mode": {
    "name": "ipython",
    "version": 3
   },
   "file_extension": ".py",
   "mimetype": "text/x-python",
   "name": "python",
   "nbconvert_exporter": "python",
   "pygments_lexer": "ipython3",
   "version": "3.8.10"
  }
 },
 "nbformat": 4,
 "nbformat_minor": 2
}
